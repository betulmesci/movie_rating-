{
 "cells": [
  {
   "cell_type": "markdown",
   "metadata": {},
   "source": [
    "# Rating's Impact on Gross Earnings for Disney Movies"
   ]
  },
  {
   "cell_type": "markdown",
   "metadata": {},
   "source": [
    "This project explores how a Disney movie's rating impacts its profitability.\n",
    "\n",
    "The dataset provides information about 579 movies which were produced by the Disney company between 1937 and 2016. It gives the \n",
    "<b>title</b> of the movie, its <b>release date</b>, <b>genre</b> and <b>rating</b>. It also includes the <b>total gross</b> made by the movie and the <b>inflation adjusted gross</b>. \n",
    "\n",
    "The end goal of this project is to make a recommendation to the Disney company on which rating helps the company earn more money that is if there is any correlation.\n"
   ]
  },
  {
   "cell_type": "markdown",
   "metadata": {},
   "source": [
    "## Reading and Exploring the Data\n",
    "\n",
    "The data is read from the file titled 'disney_movies_total_gross.csv'. "
   ]
  },
  {
   "cell_type": "code",
   "execution_count": 1,
   "metadata": {},
   "outputs": [
    {
     "data": {
      "text/html": [
       "<div>\n",
       "<style scoped>\n",
       "    .dataframe tbody tr th:only-of-type {\n",
       "        vertical-align: middle;\n",
       "    }\n",
       "\n",
       "    .dataframe tbody tr th {\n",
       "        vertical-align: top;\n",
       "    }\n",
       "\n",
       "    .dataframe thead th {\n",
       "        text-align: right;\n",
       "    }\n",
       "</style>\n",
       "<table border=\"1\" class=\"dataframe\">\n",
       "  <thead>\n",
       "    <tr style=\"text-align: right;\">\n",
       "      <th></th>\n",
       "      <th>movie_title</th>\n",
       "      <th>release_date</th>\n",
       "      <th>genre</th>\n",
       "      <th>mpaa_rating</th>\n",
       "      <th>total_gross</th>\n",
       "      <th>inflation_adjusted_gross</th>\n",
       "    </tr>\n",
       "  </thead>\n",
       "  <tbody>\n",
       "    <tr>\n",
       "      <th>0</th>\n",
       "      <td>Snow White and the Seven Dwarfs</td>\n",
       "      <td>1937-12-21</td>\n",
       "      <td>Musical</td>\n",
       "      <td>G</td>\n",
       "      <td>184925485</td>\n",
       "      <td>5228953251</td>\n",
       "    </tr>\n",
       "    <tr>\n",
       "      <th>1</th>\n",
       "      <td>Pinocchio</td>\n",
       "      <td>1940-02-09</td>\n",
       "      <td>Adventure</td>\n",
       "      <td>G</td>\n",
       "      <td>84300000</td>\n",
       "      <td>2188229052</td>\n",
       "    </tr>\n",
       "    <tr>\n",
       "      <th>2</th>\n",
       "      <td>Fantasia</td>\n",
       "      <td>1940-11-13</td>\n",
       "      <td>Musical</td>\n",
       "      <td>G</td>\n",
       "      <td>83320000</td>\n",
       "      <td>2187090808</td>\n",
       "    </tr>\n",
       "    <tr>\n",
       "      <th>3</th>\n",
       "      <td>Song of the South</td>\n",
       "      <td>1946-11-12</td>\n",
       "      <td>Adventure</td>\n",
       "      <td>G</td>\n",
       "      <td>65000000</td>\n",
       "      <td>1078510579</td>\n",
       "    </tr>\n",
       "    <tr>\n",
       "      <th>4</th>\n",
       "      <td>Cinderella</td>\n",
       "      <td>1950-02-15</td>\n",
       "      <td>Drama</td>\n",
       "      <td>G</td>\n",
       "      <td>85000000</td>\n",
       "      <td>920608730</td>\n",
       "    </tr>\n",
       "    <tr>\n",
       "      <th>5</th>\n",
       "      <td>20,000 Leagues Under the Sea</td>\n",
       "      <td>1954-12-23</td>\n",
       "      <td>Adventure</td>\n",
       "      <td>NaN</td>\n",
       "      <td>28200000</td>\n",
       "      <td>528279994</td>\n",
       "    </tr>\n",
       "    <tr>\n",
       "      <th>6</th>\n",
       "      <td>Lady and the Tramp</td>\n",
       "      <td>1955-06-22</td>\n",
       "      <td>Drama</td>\n",
       "      <td>G</td>\n",
       "      <td>93600000</td>\n",
       "      <td>1236035515</td>\n",
       "    </tr>\n",
       "    <tr>\n",
       "      <th>7</th>\n",
       "      <td>Sleeping Beauty</td>\n",
       "      <td>1959-01-29</td>\n",
       "      <td>Drama</td>\n",
       "      <td>NaN</td>\n",
       "      <td>9464608</td>\n",
       "      <td>21505832</td>\n",
       "    </tr>\n",
       "    <tr>\n",
       "      <th>8</th>\n",
       "      <td>101 Dalmatians</td>\n",
       "      <td>1961-01-25</td>\n",
       "      <td>Comedy</td>\n",
       "      <td>G</td>\n",
       "      <td>153000000</td>\n",
       "      <td>1362870985</td>\n",
       "    </tr>\n",
       "    <tr>\n",
       "      <th>9</th>\n",
       "      <td>The Absent Minded Professor</td>\n",
       "      <td>1961-03-16</td>\n",
       "      <td>Comedy</td>\n",
       "      <td>NaN</td>\n",
       "      <td>25381407</td>\n",
       "      <td>310094574</td>\n",
       "    </tr>\n",
       "  </tbody>\n",
       "</table>\n",
       "</div>"
      ],
      "text/plain": [
       "                       movie_title release_date      genre mpaa_rating  \\\n",
       "0  Snow White and the Seven Dwarfs   1937-12-21    Musical           G   \n",
       "1                        Pinocchio   1940-02-09  Adventure           G   \n",
       "2                         Fantasia   1940-11-13    Musical           G   \n",
       "3                Song of the South   1946-11-12  Adventure           G   \n",
       "4                       Cinderella   1950-02-15      Drama           G   \n",
       "5     20,000 Leagues Under the Sea   1954-12-23  Adventure         NaN   \n",
       "6               Lady and the Tramp   1955-06-22      Drama           G   \n",
       "7                  Sleeping Beauty   1959-01-29      Drama         NaN   \n",
       "8                   101 Dalmatians   1961-01-25     Comedy           G   \n",
       "9      The Absent Minded Professor   1961-03-16     Comedy         NaN   \n",
       "\n",
       "   total_gross  inflation_adjusted_gross  \n",
       "0    184925485                5228953251  \n",
       "1     84300000                2188229052  \n",
       "2     83320000                2187090808  \n",
       "3     65000000                1078510579  \n",
       "4     85000000                 920608730  \n",
       "5     28200000                 528279994  \n",
       "6     93600000                1236035515  \n",
       "7      9464608                  21505832  \n",
       "8    153000000                1362870985  \n",
       "9     25381407                 310094574  "
      ]
     },
     "execution_count": 1,
     "metadata": {},
     "output_type": "execute_result"
    }
   ],
   "source": [
    "#Load the necessary libraries and read the data from the file titled 'disney_movies_total_gross.csv'.\n",
    "import pandas as pd\n",
    "import numpy as np\n",
    "import matplotlib.pyplot as plt\n",
    "import seaborn as sns\n",
    "from sklearn.linear_model import LinearRegression\n",
    "\n",
    "gross = pd.read_csv('disney_movies_total_gross.csv', parse_dates=['release_date'])\n",
    "gross.head(10)"
   ]
  },
  {
   "cell_type": "markdown",
   "metadata": {},
   "source": [
    "Since the movies' release dates encompass such a large span of time, the <b>inflation adjusted gross</b> column will be used to make comparisons among the movies. It will be referred to as <b>gross</b>, and the <b>total gross</b> column will be removed from the dataset to avoid any confusion.\n"
   ]
  },
  {
   "cell_type": "code",
   "execution_count": 2,
   "metadata": {},
   "outputs": [
    {
     "data": {
      "text/html": [
       "<div>\n",
       "<style scoped>\n",
       "    .dataframe tbody tr th:only-of-type {\n",
       "        vertical-align: middle;\n",
       "    }\n",
       "\n",
       "    .dataframe tbody tr th {\n",
       "        vertical-align: top;\n",
       "    }\n",
       "\n",
       "    .dataframe thead th {\n",
       "        text-align: right;\n",
       "    }\n",
       "</style>\n",
       "<table border=\"1\" class=\"dataframe\">\n",
       "  <thead>\n",
       "    <tr style=\"text-align: right;\">\n",
       "      <th></th>\n",
       "      <th>movie_title</th>\n",
       "      <th>release_date</th>\n",
       "      <th>genre</th>\n",
       "      <th>mpaa_rating</th>\n",
       "      <th>gross</th>\n",
       "    </tr>\n",
       "  </thead>\n",
       "  <tbody>\n",
       "    <tr>\n",
       "      <th>0</th>\n",
       "      <td>Snow White and the Seven Dwarfs</td>\n",
       "      <td>1937-12-21</td>\n",
       "      <td>Musical</td>\n",
       "      <td>G</td>\n",
       "      <td>5228953251</td>\n",
       "    </tr>\n",
       "    <tr>\n",
       "      <th>1</th>\n",
       "      <td>Pinocchio</td>\n",
       "      <td>1940-02-09</td>\n",
       "      <td>Adventure</td>\n",
       "      <td>G</td>\n",
       "      <td>2188229052</td>\n",
       "    </tr>\n",
       "    <tr>\n",
       "      <th>2</th>\n",
       "      <td>Fantasia</td>\n",
       "      <td>1940-11-13</td>\n",
       "      <td>Musical</td>\n",
       "      <td>G</td>\n",
       "      <td>2187090808</td>\n",
       "    </tr>\n",
       "    <tr>\n",
       "      <th>3</th>\n",
       "      <td>Song of the South</td>\n",
       "      <td>1946-11-12</td>\n",
       "      <td>Adventure</td>\n",
       "      <td>G</td>\n",
       "      <td>1078510579</td>\n",
       "    </tr>\n",
       "    <tr>\n",
       "      <th>4</th>\n",
       "      <td>Cinderella</td>\n",
       "      <td>1950-02-15</td>\n",
       "      <td>Drama</td>\n",
       "      <td>G</td>\n",
       "      <td>920608730</td>\n",
       "    </tr>\n",
       "  </tbody>\n",
       "</table>\n",
       "</div>"
      ],
      "text/plain": [
       "                       movie_title release_date      genre mpaa_rating  \\\n",
       "0  Snow White and the Seven Dwarfs   1937-12-21    Musical           G   \n",
       "1                        Pinocchio   1940-02-09  Adventure           G   \n",
       "2                         Fantasia   1940-11-13    Musical           G   \n",
       "3                Song of the South   1946-11-12  Adventure           G   \n",
       "4                       Cinderella   1950-02-15      Drama           G   \n",
       "\n",
       "        gross  \n",
       "0  5228953251  \n",
       "1  2188229052  \n",
       "2  2187090808  \n",
       "3  1078510579  \n",
       "4   920608730  "
      ]
     },
     "execution_count": 2,
     "metadata": {},
     "output_type": "execute_result"
    }
   ],
   "source": [
    "#Remove 'total_gross' then rename 'inflation_adjusted_gross' as just 'gross'\n",
    "gross.drop(['total_gross'], axis=1, inplace=True)\n",
    "gross.rename(columns={'inflation_adjusted_gross':'gross'}, inplace=True)\n",
    "gross.head()"
   ]
  },
  {
   "cell_type": "markdown",
   "metadata": {},
   "source": [
    "The following code provides the number of movies released per year. \n",
    "\n",
    "From the 1930s to mid 1980s, there were fewer movies released per year. Also society's norms change over the years. People's tendencies over that period of time may not be reflective of our current society. Since these movies may be irrelevant, we may have to omit these years in the final analysis. We will decide on this by investigating the data in more detail. \n",
    "\n",
    "Also, we see that Disney was more productive during 1990's and 2000's, so movies produced during these years may play more role in our analysis."
   ]
  },
  {
   "cell_type": "code",
   "execution_count": 3,
   "metadata": {},
   "outputs": [
    {
     "data": {
      "text/plain": [
       "1937     1\n",
       "1940     2\n",
       "1946     1\n",
       "1950     1\n",
       "1954     1\n",
       "1955     1\n",
       "1959     1\n",
       "1961     3\n",
       "1962     1\n",
       "1963     1\n",
       "1967     1\n",
       "1968     1\n",
       "1970     2\n",
       "1971     1\n",
       "1975     1\n",
       "1977     4\n",
       "1979     1\n",
       "1980     2\n",
       "1981     4\n",
       "1982     3\n",
       "1983     4\n",
       "1984     2\n",
       "1985     6\n",
       "1986     7\n",
       "1987    10\n",
       "1988    12\n",
       "1989    11\n",
       "1990    15\n",
       "1991    16\n",
       "1992    22\n",
       "1993    27\n",
       "1994    30\n",
       "1995    32\n",
       "1996    28\n",
       "1997    23\n",
       "1998    22\n",
       "1999    21\n",
       "2000    19\n",
       "2001    14\n",
       "2002    22\n",
       "2003    19\n",
       "2004    19\n",
       "2005    17\n",
       "2006    19\n",
       "2007    14\n",
       "2008    13\n",
       "2009    16\n",
       "2010    14\n",
       "2011    14\n",
       "2012    10\n",
       "2013    11\n",
       "2014    12\n",
       "2015    11\n",
       "2016    14\n",
       "Name: year, dtype: int64"
      ]
     },
     "execution_count": 3,
     "metadata": {},
     "output_type": "execute_result"
    }
   ],
   "source": [
    "#To explore the data by year, extraction of year from the release date is necessary.\n",
    "gross['year'] = gross['release_date'].dt.year\n",
    "gross['year'].value_counts().sort_index()"
   ]
  },
  {
   "cell_type": "markdown",
   "metadata": {},
   "source": [
    "## Cleaning the Data\n",
    "\n",
    "Next, we will shift our focus to cleaning the data. \n",
    "\n",
    "Exploration of the missing values in the rating column reveals that 56 movies has missing ratings, while 3 movies are rated as 'Not Rated'."
   ]
  },
  {
   "cell_type": "code",
   "execution_count": 4,
   "metadata": {},
   "outputs": [
    {
     "name": "stdout",
     "output_type": "stream",
     "text": [
      "movie_title      0\n",
      "release_date     0\n",
      "genre           17\n",
      "mpaa_rating     56\n",
      "gross            0\n",
      "year             0\n",
      "dtype: int64\n"
     ]
    },
    {
     "data": {
      "text/plain": [
       "PG           187\n",
       "PG-13        145\n",
       "R            102\n",
       "G             86\n",
       "Not Rated      3\n",
       "Name: mpaa_rating, dtype: int64"
      ]
     },
     "execution_count": 4,
     "metadata": {},
     "output_type": "execute_result"
    }
   ],
   "source": [
    "#Exploration of missing values: Find total number of missing values in each column. \n",
    "#Also find out if rating column has any other labels for missing values. In this case 'Not Rated' was used for missing values.  \n",
    "print(gross.isna().sum())\n",
    "gross['mpaa_rating'].value_counts()"
   ]
  },
  {
   "cell_type": "markdown",
   "metadata": {},
   "source": [
    "Those movies with missing ratings need to be removed from the dataset, as they have no contribution to our decision making. The dataset has now 520 movies."
   ]
  },
  {
   "cell_type": "code",
   "execution_count": 5,
   "metadata": {},
   "outputs": [
    {
     "name": "stdout",
     "output_type": "stream",
     "text": [
      "(579, 6)\n"
     ]
    },
    {
     "data": {
      "text/plain": [
       "(520, 6)"
      ]
     },
     "execution_count": 5,
     "metadata": {},
     "output_type": "execute_result"
    }
   ],
   "source": [
    "#Removing movies with missing ratings\n",
    "print(gross.shape)\n",
    "gross = gross[gross['mpaa_rating']!='Not Rated']\n",
    "gross.dropna(subset=['mpaa_rating'],inplace=True)\n",
    "gross.shape\n"
   ]
  },
  {
   "cell_type": "markdown",
   "metadata": {},
   "source": [
    "## Exploratory Data Analysis\n",
    "\n",
    "Before doing any kind of calculations on the data, plotting the average gross per decade for each rating will help us understand whether there is irrelevant information that will skew our analysis. "
   ]
  },
  {
   "cell_type": "code",
   "execution_count": 6,
   "metadata": {},
   "outputs": [
    {
     "data": {
      "text/html": [
       "<div>\n",
       "<style scoped>\n",
       "    .dataframe tbody tr th:only-of-type {\n",
       "        vertical-align: middle;\n",
       "    }\n",
       "\n",
       "    .dataframe tbody tr th {\n",
       "        vertical-align: top;\n",
       "    }\n",
       "\n",
       "    .dataframe thead th {\n",
       "        text-align: right;\n",
       "    }\n",
       "</style>\n",
       "<table border=\"1\" class=\"dataframe\">\n",
       "  <thead>\n",
       "    <tr style=\"text-align: right;\">\n",
       "      <th></th>\n",
       "      <th>mpaa_rating</th>\n",
       "      <th>year</th>\n",
       "      <th>gross</th>\n",
       "    </tr>\n",
       "  </thead>\n",
       "  <tbody>\n",
       "    <tr>\n",
       "      <th>0</th>\n",
       "      <td>G</td>\n",
       "      <td>1937</td>\n",
       "      <td>5.228953e+09</td>\n",
       "    </tr>\n",
       "    <tr>\n",
       "      <th>1</th>\n",
       "      <td>G</td>\n",
       "      <td>1940</td>\n",
       "      <td>2.187660e+09</td>\n",
       "    </tr>\n",
       "    <tr>\n",
       "      <th>2</th>\n",
       "      <td>G</td>\n",
       "      <td>1946</td>\n",
       "      <td>1.078511e+09</td>\n",
       "    </tr>\n",
       "    <tr>\n",
       "      <th>3</th>\n",
       "      <td>G</td>\n",
       "      <td>1950</td>\n",
       "      <td>9.206087e+08</td>\n",
       "    </tr>\n",
       "    <tr>\n",
       "      <th>4</th>\n",
       "      <td>G</td>\n",
       "      <td>1955</td>\n",
       "      <td>1.236036e+09</td>\n",
       "    </tr>\n",
       "  </tbody>\n",
       "</table>\n",
       "</div>"
      ],
      "text/plain": [
       "  mpaa_rating  year         gross\n",
       "0           G  1937  5.228953e+09\n",
       "1           G  1940  2.187660e+09\n",
       "2           G  1946  1.078511e+09\n",
       "3           G  1950  9.206087e+08\n",
       "4           G  1955  1.236036e+09"
      ]
     },
     "execution_count": 6,
     "metadata": {},
     "output_type": "execute_result"
    }
   ],
   "source": [
    "#Group the dataset by rating. Then calculate the average gross by year for each rating.\n",
    "group = gross.groupby(['mpaa_rating','year'])['gross'].mean()\n",
    "rating_yearly = group.reset_index()\n",
    "rating_yearly.head()\n"
   ]
  },
  {
   "cell_type": "markdown",
   "metadata": {},
   "source": [
    "The following plot gives us an insight into how the average gross has fared depending on the rating during the 80 years of Disney making movies."
   ]
  },
  {
   "cell_type": "code",
   "execution_count": 7,
   "metadata": {},
   "outputs": [
    {
     "data": {
      "text/plain": [
       "<seaborn.axisgrid.FacetGrid at 0x1377f251910>"
      ]
     },
     "execution_count": 7,
     "metadata": {},
     "output_type": "execute_result"
    },
    {
     "data": {
      "image/png": "[encoded data removed]",
      "text/plain": [
       "<Figure size 458.875x360 with 1 Axes>"
      ]
     },
     "metadata": {
      "needs_background": "light"
     },
     "output_type": "display_data"
    }
   ],
   "source": [
    "# Plot the ratings by gross over about 80 years\n",
    "sns.relplot(kind='line', x='year', y='gross', data=rating_yearly, hue='mpaa_rating')"
   ]
  },
  {
   "cell_type": "markdown",
   "metadata": {},
   "source": [
    "As mentioned before, only movies made after 1985 seem to shed a light on how the movies are being rated and how much gross they make as of late. So it would be a good decision to focus on only movies made after 1985.\n",
    "\n",
    "Just by inspecting the graph, we see that 'G' rated movies used to be making more money than 'PG' or 'PG-13' rated, although it seems to be the other way around lately.\n",
    "\n",
    "'R' rated movies doesn't bring in much revenue unsurprisingly, as Disney company is known for its family oriented movies. \n",
    "\n",
    "We will apply Linear Regression to see if our takeaways hold any truth. First, we will get rid of movies made before 1985."
   ]
  },
  {
   "cell_type": "code",
   "execution_count": 8,
   "metadata": {},
   "outputs": [
    {
     "data": {
      "text/plain": [
       "1995    32\n",
       "1996    28\n",
       "1994    28\n",
       "1993    27\n",
       "1997    23\n",
       "1992    22\n",
       "1998    22\n",
       "2002    21\n",
       "1999    21\n",
       "2006    19\n",
       "2003    19\n",
       "2000    19\n",
       "2004    18\n",
       "2005    17\n",
       "2009    16\n",
       "1991    14\n",
       "1990    14\n",
       "2016    14\n",
       "2001    14\n",
       "2007    14\n",
       "2010    14\n",
       "2011    14\n",
       "2008    13\n",
       "2014    12\n",
       "2015    11\n",
       "2013    11\n",
       "2012    10\n",
       "1989     9\n",
       "1988     7\n",
       "1987     4\n",
       "1986     3\n",
       "Name: year, dtype: int64"
      ]
     },
     "execution_count": 8,
     "metadata": {},
     "output_type": "execute_result"
    }
   ],
   "source": [
    "#Include only movies made after 1985\n",
    "gross = gross[gross['year']>=1985]\n",
    "gross['year'].value_counts()"
   ]
  },
  {
   "cell_type": "markdown",
   "metadata": {},
   "source": [
    "## Applying Linear Regression"
   ]
  },
  {
   "cell_type": "code",
   "execution_count": 9,
   "metadata": {},
   "outputs": [
    {
     "data": {
      "text/html": [
       "<div>\n",
       "<style scoped>\n",
       "    .dataframe tbody tr th:only-of-type {\n",
       "        vertical-align: middle;\n",
       "    }\n",
       "\n",
       "    .dataframe tbody tr th {\n",
       "        vertical-align: top;\n",
       "    }\n",
       "\n",
       "    .dataframe thead th {\n",
       "        text-align: right;\n",
       "    }\n",
       "</style>\n",
       "<table border=\"1\" class=\"dataframe\">\n",
       "  <thead>\n",
       "    <tr style=\"text-align: right;\">\n",
       "      <th></th>\n",
       "      <th>PG</th>\n",
       "      <th>PG-13</th>\n",
       "      <th>R</th>\n",
       "    </tr>\n",
       "  </thead>\n",
       "  <tbody>\n",
       "    <tr>\n",
       "      <th>45</th>\n",
       "      <td>0</td>\n",
       "      <td>0</td>\n",
       "      <td>1</td>\n",
       "    </tr>\n",
       "    <tr>\n",
       "      <th>47</th>\n",
       "      <td>0</td>\n",
       "      <td>0</td>\n",
       "      <td>1</td>\n",
       "    </tr>\n",
       "    <tr>\n",
       "      <th>51</th>\n",
       "      <td>0</td>\n",
       "      <td>0</td>\n",
       "      <td>1</td>\n",
       "    </tr>\n",
       "    <tr>\n",
       "      <th>52</th>\n",
       "      <td>0</td>\n",
       "      <td>0</td>\n",
       "      <td>1</td>\n",
       "    </tr>\n",
       "    <tr>\n",
       "      <th>57</th>\n",
       "      <td>0</td>\n",
       "      <td>0</td>\n",
       "      <td>1</td>\n",
       "    </tr>\n",
       "  </tbody>\n",
       "</table>\n",
       "</div>"
      ],
      "text/plain": [
       "    PG  PG-13  R\n",
       "45   0      0  1\n",
       "47   0      0  1\n",
       "51   0      0  1\n",
       "52   0      0  1\n",
       "57   0      0  1"
      ]
     },
     "execution_count": 9,
     "metadata": {},
     "output_type": "execute_result"
    }
   ],
   "source": [
    "#To use 'ratings' in Linear Regression, we need to create binary numbers representing the rating categories. \n",
    "rating_dummies = pd.get_dummies(gross['mpaa_rating'], drop_first=True)\n",
    "rating_dummies.head()\n"
   ]
  },
  {
   "cell_type": "code",
   "execution_count": 10,
   "metadata": {},
   "outputs": [
    {
     "name": "stdout",
     "output_type": "stream",
     "text": [
      "G: 135923947.95\n",
      "PG: -34680988.7\n",
      "PG_13: -32975363.95\n",
      "R: -80618142.4 \n"
     ]
    }
   ],
   "source": [
    "#Run the Linear Regression on the dataset's rating and gross data.  \n",
    "regr = LinearRegression()\n",
    "regr.fit(rating_dummies, gross['gross'])\n",
    "#Get the coefficients corresponding to the ratings\n",
    "G = regr.intercept_\n",
    "PG = regr.coef_[0]\n",
    "PG_13 = regr.coef_[1]\n",
    "R = regr.coef_[2]\n",
    "\n",
    "print('G: {}'.format(round(G,2)))\n",
    "print('PG: {}'.format(round(PG,2)))\n",
    "print('PG_13: {}'.format(round(PG_13,2)))\n",
    "print('R: {} '.format(round(R,2)))"
   ]
  },
  {
   "cell_type": "markdown",
   "metadata": {},
   "source": [
    "From result we see that, application of Linear Regression proves our foresight that 'G' rated movies bring in more revenue as there is a positive correlation. \n",
    "\n",
    "Also as we suspected from the graph before, there is a strong negative correlation between 'R' rated movies and their gross.\n",
    "\n",
    "There seems to be a negative correlation between 'PG' and 'PG 13' rated movies and the revenue they make, though we need to take a closer look.\n",
    "\n",
    "In any case, we can not be entirely sure as of yet as the dataset is fairly small and we ran Regression only once. To make sure, we will use a technique called bootstrapping, where we resample the data and run Linear Regression on it many times to see if there is any fluctuation in the coefficients produced by the Regressions.\n",
    "\n",
    "If we have some coefficients ending up being zero, then we can conclude that that particular rating does not affect the revenue.\n",
    "\n",
    "We will resample the data randomly and run Linear Regression on it 500 times. We will save those 500 coefficients of each rating in 4 lists (numpy arrays). Then look into those numbers both statistically and visually to see if there are any zeroes in them. \n",
    "\n",
    "The following code creates indices for resampling and 4 empty arrays to save the replicates of coefficients for each rating."
   ]
  },
  {
   "cell_type": "code",
   "execution_count": 11,
   "metadata": {},
   "outputs": [],
   "source": [
    "#Create indices for resampling\n",
    "inds = np.arange(len(gross['mpaa_rating']))\n",
    "size = 500\n",
    "#create four empty numpy arrays to save those coefficients produced by the Linear Regression\n",
    "g_reps = np.empty(shape=size)\n",
    "pg_reps = np.empty(shape=size)\n",
    "pg_13_reps = np.empty(shape=size)\n",
    "r_reps = np.empty(shape=size)\n",
    "\n"
   ]
  },
  {
   "cell_type": "markdown",
   "metadata": {},
   "source": [
    "Finally, the following code randomly shuffles the indices, runs the Linear Regression on the 'shuffled' dataset and saves the newly created coefficients for each rating in arrays."
   ]
  },
  {
   "cell_type": "code",
   "execution_count": 12,
   "metadata": {},
   "outputs": [],
   "source": [
    "#Randomly shuffle the data 500 times. For each case, run the Linear Regression and get the coefficients correspoding to the ratings.\n",
    "for i in range(size):\n",
    "    bs_inds = np.random.choice(inds, size=len(inds))\n",
    "    rating = gross.iloc[bs_inds,:]['mpaa_rating']\n",
    "    in_ad_gross = gross.iloc[bs_inds,:]['gross']\n",
    "    rating_dummies = pd.get_dummies(rating, drop_first=True)\n",
    "    regr = LinearRegression()\n",
    "    regr.fit(rating_dummies, in_ad_gross)\n",
    "    g_reps[i] = regr.intercept_\n",
    "    pg_reps[i] = regr.coef_[[0]][0]\n",
    "    pg_13_reps[i] = regr.coef_[[1]][0]\n",
    "    r_reps[i] = regr.coef_[[2]][0]\n"
   ]
  },
  {
   "cell_type": "markdown",
   "metadata": {},
   "source": [
    "We will take a look at those rating coefficients statistically. For each set, we will compute the 95% confidence interval and see if it includes any zero values."
   ]
  },
  {
   "cell_type": "code",
   "execution_count": 13,
   "metadata": {},
   "outputs": [
    {
     "name": "stdout",
     "output_type": "stream",
     "text": [
      "confidence_interval for G rated movies: [1.08711542e+08 1.69848105e+08]\n",
      "confidence_interval for PG rated movies: [-70682058.53836423  -2798831.84612276]\n",
      "confidence_interval for PG-13 rated movies: [-71333137.180662     5183160.02211086]\n",
      "confidence_interval for R rated movies: [-1.1786631e+08 -5.0322721e+07]\n"
     ]
    }
   ],
   "source": [
    "#Compute 95% intervals to see if they include any zeroes.\n",
    "confidence_interval_g = np.percentile(g_reps, [2.5, 97.5])\n",
    "confidence_interval_pg = np.percentile(pg_reps, [2.5, 97.5])\n",
    "confidence_interval_pg_13 = np.percentile(pg_13_reps, [2.5, 97.5])\n",
    "confidence_interval_r_reps = np.percentile(r_reps, [2.5, 97.5])\n",
    "print('confidence_interval for G rated movies: {}'.format(confidence_interval_g))\n",
    "print('confidence_interval for PG rated movies: {}'.format(confidence_interval_pg))\n",
    "print('confidence_interval for PG-13 rated movies: {}'.format(confidence_interval_pg_13))\n",
    "print('confidence_interval for R rated movies: {}'.format(confidence_interval_r_reps))"
   ]
  },
  {
   "cell_type": "markdown",
   "metadata": {},
   "source": [
    "We see that 'G' rated movies seem to have a positive correlation and 'R' rated movies have a negative correlation. 'PG-13' may have 0 values as it goes from negative values to positive values. For 'PG' we can not be sure. We have to look at all values. We will do this visually in the next part.  The following code creates 4 graphs for each rating."
   ]
  },
  {
   "cell_type": "code",
   "execution_count": 14,
   "metadata": {},
   "outputs": [
    {
     "data": {
      "image/png": "[encoded data removed]",
      "text/plain": [
       "<Figure size 432x288 with 1 Axes>"
      ]
     },
     "metadata": {
      "needs_background": "light"
     },
     "output_type": "display_data"
    },
    {
     "data": {
      "image/png": "[encoded data removed]",
      "text/plain": [
       "<Figure size 432x288 with 1 Axes>"
      ]
     },
     "metadata": {
      "needs_background": "light"
     },
     "output_type": "display_data"
    },
    {
     "data": {
      "image/png": "[encoded data removed]",
      "text/plain": [
       "<Figure size 432x288 with 1 Axes>"
      ]
     },
     "metadata": {
      "needs_background": "light"
     },
     "output_type": "display_data"
    },
    {
     "data": {
      "image/png": "[encoded data removed]",
      "text/plain": [
       "<Figure size 432x288 with 1 Axes>"
      ]
     },
     "metadata": {
      "needs_background": "light"
     },
     "output_type": "display_data"
    }
   ],
   "source": [
    "%matplotlib inline\n",
    "color = ['blue', 'red', 'green', 'orange']\n",
    "name=['G rated', 'PG rated', 'PG 13 rated', 'R rated']\n",
    "for i,j in enumerate([g_reps, pg_reps, pg_13_reps, r_reps]):\n",
    "    plt.scatter(x=np.arange(500), y=j, label=name[i], color=color[i], alpha=0.5)\n",
    "    plt.xlabel('Cases')\n",
    "    plt.ylabel('Correlation')\n",
    "    plt.legend().get_frame().set_alpha(alpha=0.5)\n",
    "    plt.show()"
   ]
  },
  {
   "cell_type": "markdown",
   "metadata": {},
   "source": [
    "For 'G' rating, as we suspected, there are no zero values. Since all values are positive, we can infer that a movie being 'G' rated certainly increases its revenue. The reason for this may be, people can go see these movies as a whole family. Naturally they pay more. \n",
    "\n",
    "On the contrary, for 'R' rated movies, we see that there is a negative correlation in all cases and there are no zero values which means in no case was there a lack of correlation. The reason for the negative correlation may be people do not bring their children to those movies, so they do not pay as much. Some people may prefer other movie companies if they were inclined to watch an 'R' rated movie.\n",
    "\n",
    "As for 'PG' and 'PG-13' rated movies, we do see many zero values for many cases. So we conclude that for those cases, there is no correlation between a movie being rated 'PG' or 'PG-13' and the revenue it brings in. For others, it seems like negatively correlated cases overpowers positively correlated cases, but still we can not draw a clear conclusion."
   ]
  },
  {
   "cell_type": "markdown",
   "metadata": {},
   "source": [
    "Finally, considering all the evidence, I would advise the Disney company to make more movies targeting the General audience. \n",
    "\n",
    "'PG' and 'PG-13' rated movies may occasionally bring in high revenue, but chances are they may not do as well as the 'G' rated ones.\n",
    "\n",
    "I certainly would not recommend Disney to produce 'R' rated movies based on the data."
   ]
  },
  {
   "cell_type": "code",
   "execution_count": null,
   "metadata": {},
   "outputs": [],
   "source": []
  }
 ],
 "metadata": {
  "kernelspec": {
   "display_name": "Python 3",
   "language": "python",
   "name": "python3"
  },
  "language_info": {
   "codemirror_mode": {
    "name": "ipython",
    "version": 3
   },
   "file_extension": ".py",
   "mimetype": "text/x-python",
   "name": "python",
   "nbconvert_exporter": "python",
   "pygments_lexer": "ipython3",
   "version": "3.8.3"
  }
 },
 "nbformat": 4,
 "nbformat_minor": 4
}
